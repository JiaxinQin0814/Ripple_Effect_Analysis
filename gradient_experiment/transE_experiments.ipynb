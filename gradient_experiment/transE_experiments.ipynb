{
 "cells": [
  {
   "cell_type": "code",
   "execution_count": 1,
   "metadata": {},
   "outputs": [],
   "source": [
    "import sys\n",
    "sys.path.append(\"/home/zixuan11/qjx/OpenKE\")\n",
    "import json\n",
    "import os\n",
    "import torch\n",
    "torch.cuda.set_device(5)\n",
    "torch.cuda.current_device()\n",
    "# os.environ[\"CUDA_VISIBLE_DEVICES\"] = '0'\n",
    "from typing import List, Optional\n",
    "import torch\n",
    "import seaborn as sns\n",
    "from torch import nn\n",
    "import matplotlib.pyplot as plt\n",
    "import numpy as np\n",
    "import copy"
   ]
  },
  {
   "cell_type": "code",
   "execution_count": 2,
   "metadata": {},
   "outputs": [],
   "source": [
    "# import openke\n",
    "from openke.config import Trainer, Tester\n",
    "from openke.module.model import TransE\n",
    "from openke.module.loss import MarginLoss\n",
    "from openke.module.strategy import NegativeSampling\n",
    "from openke.data import TrainDataLoader, TestDataLoader"
   ]
  },
  {
   "cell_type": "code",
   "execution_count": 3,
   "metadata": {},
   "outputs": [
    {
     "name": "stdout",
     "output_type": "stream",
     "text": [
      "Input Files Path : /home/zixuan11/qjx/OpenKE/benchmarks/FB15K237/\n",
      "The toolkit is importing datasets.\n",
      "The total of relations is 237.\n",
      "The total of entities is 14541.\n",
      "The total of train triples is 272115.\n"
     ]
    }
   ],
   "source": [
    "# dataloader for training\n",
    "train_dataloader = TrainDataLoader(\n",
    "\tin_path = \"/home/zixuan11/qjx/OpenKE/benchmarks/FB15K237/\", \n",
    "\tnbatches = 100,\n",
    "\tthreads = 8, \n",
    "\tsampling_mode = \"normal\", \n",
    "\tbern_flag = 1, \n",
    "\tfilter_flag = 1, \n",
    "\tneg_ent = 25,\n",
    "\tneg_rel = 0)"
   ]
  },
  {
   "cell_type": "code",
   "execution_count": 5,
   "metadata": {},
   "outputs": [
    {
     "data": {
      "text/plain": [
       "<openke.data.TrainDataLoader.TrainDataLoader at 0x7f3a44db6970>"
      ]
     },
     "execution_count": 5,
     "metadata": {},
     "output_type": "execute_result"
    }
   ],
   "source": [
    "train_dataloader"
   ]
  },
  {
   "cell_type": "code",
   "execution_count": 4,
   "metadata": {},
   "outputs": [
    {
     "name": "stdout",
     "output_type": "stream",
     "text": [
      "Input Files Path : /home/zixuan11/qjx/OpenKE/benchmarks/FB15K237/\n",
      "The total of test triples is 20466.\n",
      "The total of valid triples is 17535.\n"
     ]
    }
   ],
   "source": [
    "# dataloader for test\n",
    "test_dataloader = TestDataLoader(\"/home/zixuan11/qjx/OpenKE/benchmarks/FB15K237/\", \"link\")"
   ]
  },
  {
   "cell_type": "code",
   "execution_count": 5,
   "metadata": {},
   "outputs": [],
   "source": [
    "# define the model\n",
    "transe = TransE(\n",
    "\tent_tot = train_dataloader.get_ent_tot(),\n",
    "\trel_tot = train_dataloader.get_rel_tot(),\n",
    "\tdim = 100, \n",
    "\tp_norm = 1, \n",
    "\tnorm_flag = True)"
   ]
  },
  {
   "cell_type": "code",
   "execution_count": 6,
   "metadata": {},
   "outputs": [],
   "source": [
    "# define the loss function\n",
    "model = NegativeSampling(\n",
    "\tmodel = transe, \n",
    "\tloss = MarginLoss(margin = 5.0),\n",
    "\tbatch_size = train_dataloader.get_batch_size()\n",
    ")"
   ]
  },
  {
   "cell_type": "code",
   "execution_count": 7,
   "metadata": {},
   "outputs": [
    {
     "name": "stdout",
     "output_type": "stream",
     "text": [
      "Finish initializing...\n"
     ]
    },
    {
     "name": "stderr",
     "output_type": "stream",
     "text": [
      "Epoch 9 | loss: 7.714484: 100%|██████████| 10/10 [00:14<00:00,  1.48s/it] \n"
     ]
    }
   ],
   "source": [
    "# train the model\n",
    "trainer = Trainer(model = model, data_loader = train_dataloader, train_times = 10, alpha = 1.0, use_gpu = True)\n",
    "trainer.run()\n",
    "transe.save_checkpoint('/home/zixuan11/qjx/gradient_experiment/transE_checkpoint/transe.ckpt')"
   ]
  },
  {
   "cell_type": "code",
   "execution_count": 8,
   "metadata": {},
   "outputs": [],
   "source": [
    "transe.load_checkpoint('/home/zixuan11/qjx/gradient_experiment/transE_checkpoint/transe.ckpt')"
   ]
  },
  {
   "cell_type": "code",
   "execution_count": 9,
   "metadata": {},
   "outputs": [
    {
     "data": {
      "text/plain": [
       "TransE(\n",
       "  (ent_embeddings): Embedding(14541, 200)\n",
       "  (rel_embeddings): Embedding(237, 200)\n",
       ")"
      ]
     },
     "execution_count": 9,
     "metadata": {},
     "output_type": "execute_result"
    }
   ],
   "source": [
    "transe"
   ]
  },
  {
   "cell_type": "code",
   "execution_count": 10,
   "metadata": {},
   "outputs": [],
   "source": [
    "device = torch.device('cuda:5' if torch.cuda.is_available() else \"cpu\")"
   ]
  },
  {
   "cell_type": "code",
   "execution_count": 11,
   "metadata": {},
   "outputs": [
    {
     "data": {
      "text/plain": [
       "tensor([ 1.9306e-02, -2.5632e-02, -1.3782e-02,  2.5832e-02,  9.6677e-03,\n",
       "         4.7554e-03, -6.5929e-03, -4.0559e-03,  1.4569e-02, -1.9582e-02,\n",
       "         2.8162e-02, -5.5469e-03, -3.5969e-03,  2.2285e-02, -8.8358e-03,\n",
       "         6.2256e-04, -2.6435e-02, -2.4656e-02,  1.3898e-02,  1.9853e-03,\n",
       "        -1.7810e-02,  1.2797e-02,  8.4199e-03,  1.6161e-02,  3.2635e-03,\n",
       "         4.9217e-03,  2.8816e-02, -1.0700e-02, -9.0739e-03,  2.6620e-02,\n",
       "        -3.8206e-03, -1.8923e-02,  2.2267e-02,  4.6751e-04, -5.9256e-03,\n",
       "         1.7030e-02,  3.6299e-02,  1.0356e-02, -2.3866e-02, -9.3976e-03,\n",
       "         1.5638e-02,  1.5685e-02,  1.8958e-02, -2.2883e-02, -4.3815e-03,\n",
       "         2.0357e-02, -2.6899e-03,  1.6311e-02,  1.3618e-02, -1.1739e-02,\n",
       "         1.6477e-02,  1.0733e-03, -5.3514e-03,  5.6657e-03, -1.7748e-02,\n",
       "         6.0230e-03, -4.9133e-04, -2.4723e-02, -4.4542e-03, -5.6122e-03,\n",
       "         2.0770e-03, -8.7193e-03, -1.7554e-02,  5.3800e-03, -5.1983e-03,\n",
       "         4.6893e-03, -6.6509e-03,  2.8260e-02, -8.3993e-05,  7.8701e-03,\n",
       "         5.2255e-03,  1.1510e-02,  1.7250e-03, -2.1508e-02, -5.8946e-03,\n",
       "        -2.8378e-02, -2.9555e-03,  2.2105e-02,  4.5286e-03,  3.9839e-03,\n",
       "         9.1021e-03, -1.0036e-02, -2.3111e-02,  9.4438e-03, -2.1683e-02,\n",
       "         9.2674e-03, -1.9530e-03,  1.4708e-03,  1.5072e-02, -1.1938e-02,\n",
       "        -1.7316e-02, -2.0426e-02, -9.2998e-03,  3.0900e-03,  3.1119e-02,\n",
       "        -2.3082e-02,  6.4128e-03, -2.2873e-02,  9.8140e-03, -8.8986e-03,\n",
       "        -2.1303e-02,  1.1428e-02, -1.6404e-03, -3.5431e-03,  2.6496e-02,\n",
       "         2.8215e-02,  2.2288e-02,  2.9032e-04,  2.4910e-02,  1.3232e-02,\n",
       "         7.8616e-03,  2.8687e-02,  1.0736e-02,  1.1547e-02,  4.8317e-03,\n",
       "         1.6333e-02,  4.2349e-03,  1.8475e-02, -3.7692e-03, -1.1003e-02,\n",
       "         1.9723e-02,  2.1688e-02,  4.1981e-03,  7.9108e-03,  1.0892e-02,\n",
       "        -1.6178e-02,  2.3737e-04, -2.3485e-02, -1.0413e-02,  1.8675e-02,\n",
       "         6.7886e-03,  3.0452e-02,  1.7563e-02, -2.2252e-02, -1.5228e-02,\n",
       "         5.4408e-03,  2.8884e-03, -5.2311e-03,  1.5485e-02,  2.2176e-02,\n",
       "         8.3459e-04, -1.4131e-02,  1.7699e-02, -1.7972e-03, -3.0837e-03,\n",
       "         1.1143e-02,  1.4250e-02, -9.2097e-03, -1.1037e-02, -2.6766e-02,\n",
       "        -2.0732e-02, -8.4597e-03,  8.7209e-03,  3.9171e-03, -1.3096e-02,\n",
       "         2.1347e-02, -2.2235e-05, -2.1987e-03, -1.4344e-02, -1.1947e-02,\n",
       "         9.9887e-03, -2.0872e-02,  1.0792e-02, -2.8110e-02,  1.5289e-02,\n",
       "         1.3826e-02,  2.4511e-02,  2.4024e-02, -3.2704e-03,  1.7011e-02,\n",
       "        -6.5689e-03,  1.4827e-02,  5.5543e-03, -1.4832e-02,  1.7681e-02,\n",
       "        -5.3131e-03, -5.0150e-03, -1.5910e-03, -2.0767e-02,  5.6112e-03,\n",
       "        -2.6420e-02, -1.7642e-02,  1.0891e-02,  1.6182e-02, -8.7077e-03,\n",
       "        -3.5244e-02, -1.1742e-02, -3.2137e-02,  1.5048e-02, -2.6131e-03,\n",
       "        -1.9573e-02, -1.6188e-02,  6.5208e-03, -2.3667e-02,  1.3369e-02,\n",
       "        -2.9816e-02,  6.8455e-03, -4.0958e-03,  3.9102e-03,  1.4690e-02],\n",
       "       device='cuda:5', grad_fn=<EmbeddingBackward0>)"
      ]
     },
     "execution_count": 11,
     "metadata": {},
     "output_type": "execute_result"
    }
   ],
   "source": [
    "transe.ent_embeddings(torch.tensor(0).to(device))"
   ]
  },
  {
   "cell_type": "code",
   "execution_count": 13,
   "metadata": {},
   "outputs": [
    {
     "name": "stderr",
     "output_type": "stream",
     "text": [
      "100%|██████████| 20466/20466 [00:25<00:00, 788.27it/s]"
     ]
    },
    {
     "name": "stdout",
     "output_type": "stream",
     "text": [
      "no type constraint results:\n",
      "metric:\t\t\t MRR \t\t MR \t\t hit@10 \t hit@3  \t hit@1 \n",
      "l(raw):\t\t\t 0.079224 \t 737.892517 \t 0.184306 \t 0.076957 \t 0.028926 \n",
      "r(raw):\t\t\t 0.225517 \t 263.292938 \t 0.415909 \t 0.257891 \t 0.127773 \n",
      "averaged(raw):\t\t 0.152370 \t 500.592712 \t 0.300108 \t 0.167424 \t 0.078349 \n",
      "\n",
      "l(filter):\t\t 0.152138 \t 506.509247 \t 0.292485 \t 0.171602 \t 0.080573 \n",
      "r(filter):\t\t 0.328030 \t 240.873108 \t 0.536890 \t 0.388303 \t 0.214502 \n",
      "averaged(filter):\t 0.240084 \t 373.691162 \t 0.414688 \t 0.279952 \t 0.147537 \n",
      "0.41468775272369385\n",
      "0.414688\n"
     ]
    },
    {
     "name": "stderr",
     "output_type": "stream",
     "text": [
      "\n"
     ]
    },
    {
     "data": {
      "text/plain": [
       "(0.24008432030677795,\n",
       " 373.691162109375,\n",
       " 0.41468775272369385,\n",
       " 0.27995210886001587,\n",
       " 0.14753738045692444)"
      ]
     },
     "execution_count": 13,
     "metadata": {},
     "output_type": "execute_result"
    }
   ],
   "source": [
    "tester = Tester(model = transe, data_loader = test_dataloader, use_gpu = True)\n",
    "tester.run_link_prediction(type_constrain = False)"
   ]
  },
  {
   "cell_type": "code",
   "execution_count": null,
   "metadata": {},
   "outputs": [],
   "source": []
  }
 ],
 "metadata": {
  "kernelspec": {
   "display_name": "EasyEdit",
   "language": "python",
   "name": "python3"
  },
  "language_info": {
   "codemirror_mode": {
    "name": "ipython",
    "version": 3
   },
   "file_extension": ".py",
   "mimetype": "text/x-python",
   "name": "python",
   "nbconvert_exporter": "python",
   "pygments_lexer": "ipython3",
   "version": "3.9.7"
  }
 },
 "nbformat": 4,
 "nbformat_minor": 2
}
