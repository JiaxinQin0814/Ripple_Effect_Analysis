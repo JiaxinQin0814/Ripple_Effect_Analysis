{
 "cells": [
  {
   "cell_type": "markdown",
   "metadata": {},
   "source": [
    "## Test the relation between knowledge distribition and the NLL of ripple effect\n",
    "* defination of knowledge distribution: \n",
    "    * A->B edit A:->+C -> change B -> ripple effect\n",
    "    * distribution between A and C: if a and c are not so related, the ripple cannot map the change in A to problem C so can not do ripple \n",
    "    * ways to measure distribition: $cos_{llama32layers}(gradient(A), gradient(C))$ on original model\n",
    "    * ways to detect ripple effect: the NLL of B on edited model"
   ]
  },
  {
   "cell_type": "code",
   "execution_count": 1,
   "metadata": {},
   "outputs": [],
   "source": [
    "from utils.all_imports import *\n",
    "from utils.calculating_gradient import *\n",
    "from utils.calculating_probability import *\n",
    "torch.cuda.set_device(5)\n",
    "from utils.all_imports import *\n",
    "from utils.data_processing_utils import *\n",
    "\n",
    "\n",
    "# # import model and test_data\n",
    "# model,tokenizer,batch_first= load_model_and_tokenizer(\"/data/chihan3/cache/llama-2/llama-2-7b-hf\",None,5)\n",
    "# hparams = ROMEHyperParams.from_name(\"llama-7b\")\n",
    "# template = Template(name=\"default\")\n",
    "# streamer = TextStreamer(tokenizer, skip_prompt=True, skip_special_tokens=True)\n",
    "\n",
    "test_data_path = \"/home/qjx0814/Ripple_Effect_Analysis/RippleEdits/InitialExperiments/prompt_data.json\"\n",
    "with open(test_data_path,\"r\") as json_file:\n",
    "    test_data = json.load(json_file)\n",
    "    \n",
    "\n",
    "path = \"/home/qjx0814/Ripple_Effect_Analysis/factors_experiments/results/over_all_cosine_results_q_rq50.json\"\n",
    "with open(path,\"r\") as json_file:\n",
    "    inner_product_results = json.load(json_file)"
   ]
  },
  {
   "cell_type": "code",
   "execution_count": null,
   "metadata": {},
   "outputs": [],
   "source": [
    "inner_product_results = []\n",
    "for one_data in tqdm(test_data[16:]):\n",
    "    edited_data = make_edited_data(one_data)\n",
    "    edited_sentence_answer = edited_data['target']\n",
    "    edited_sentence = edited_data['prompt'].replace(\" {} \",f\" {edited_data['subject']} \")\n",
    "    with io.StringIO() as buf, redirect_stdout(buf), redirect_stderr(buf):\n",
    "        model_edited, diff_weights = apply_rome_to_model(model,tokenizer,[edited_data],hparams,batch_first,copy=True,return_diff_weights=True)\n",
    "    \n",
    "    # calculate the inner product between the gradient of the original sentence and the gradient of conditional sentence\n",
    "    for query in one_data['compositional_I_problems']:\n",
    "        one_data_results = dict() # initialize\n",
    "        with io.StringIO() as buf, redirect_stdout(buf), redirect_stderr(buf):\n",
    "            inner_product = inner_product_between_contexts(model,tokenizer,query['condition_query']['prompt'],edited_sentence,query['condition_query']['answer'],edited_sentence_answer,model_device=6,plot=True)\n",
    "            one_data_results['inner_product'] = inner_product\n",
    "        print(query['condition_query']['prompt'],edited_sentence,query['condition_query']['answer'],edited_sentence_answer)\n",
    "        with io.StringIO() as buf, redirect_stdout(buf), redirect_stderr(buf):\n",
    "            one_data_results['edited_sentence'] = edited_sentence\n",
    "            one_data_results['edited_sentence_answer'] = edited_sentence_answer\n",
    "            one_data_results['ripple_sentence'] = query['compositional_query']['prompt']\n",
    "            one_data_results['ripple_sentence_answer'] = query['compositional_query']['answer']\n",
    "            one_data_results['condition_query'] = query['condition_query']['prompt']\n",
    "            one_data_results['condition_query_answer'] = query['condition_query']['answer']\n",
    "            \n",
    "            result = calculate_min_probability(model_edited,tokenizer,one_data_results['ripple_sentence'],[one_data_results['ripple_sentence_answer']],space_n=10)\n",
    "        one_data_results['NLL'] = result\n",
    "        inner_product_results.append(one_data_results)\n",
    "# with open(f\"inner_product_results{len(inner_product_results)}.json\",\"w\") as json_file:\n",
    "#     json.dump(inner_product_results,json_file)"
   ]
  },
  {
   "cell_type": "code",
   "execution_count": null,
   "metadata": {},
   "outputs": [],
   "source": [
    "for one_example in inner_product_results:\n",
    "    mlp_down_project = [one_example['inner_product'][i] for i in one_example['inner_product'] if 'o_proj' in i]\n",
    "    plt.figure(figsize=(12,3))\n",
    "    plt.plot(mlp_down_project)\n",
    "    plt.grid(True)\n",
    "    plt.title(f\"NLL:{min(one_example['NLL'])}\")\n",
    "    plt.show()"
   ]
  },
  {
   "cell_type": "code",
   "execution_count": null,
   "metadata": {},
   "outputs": [],
   "source": [
    "import matplotlib.pyplot as plt\n",
    "names = [i for i in inner_product_results[0]['inner_product']]\n",
    "for name in names:\n",
    "    a = [one['inner_product'][name] for one in inner_product_results]\n",
    "    y = [min(one['NLL']) for one in inner_product_results]\n",
    "    plt.figure(figsize=(3,3))\n",
    "    plt.scatter(y,a,s=1)\n",
    "    plt.grid(True)\n",
    "    plt.title(f\"{name}\")\n",
    "    # plt.show()\n",
    "    plt.savefig(f\"/home/qjx0814/Ripple_Effect_Analysis/factors_experiments/plots/{name}.png\")"
   ]
  },
  {
   "cell_type": "markdown",
   "metadata": {},
   "source": [
    "## calculate all the cosine"
   ]
  },
  {
   "cell_type": "code",
   "execution_count": 4,
   "metadata": {},
   "outputs": [
    {
     "data": {
      "text/plain": [
       "{'edit': {'prompt': 'The name of the country of citizenship of Leonardo DiCaprio is Syria.',\n",
       "  'subject_id': 'Leonardo DiCaprio',\n",
       "  'relation': 'COUNTRY_OF_CITIZENSHIP',\n",
       "  'target_id': 'Syria',\n",
       "  'original_fact': {'prompt': 'The name of the country of citizenship of Leonardo DiCaprio is United States of America.',\n",
       "   'subject_id': 'Leonardo DiCaprio',\n",
       "   'relation': 'COUNTRY_OF_CITIZENSHIP',\n",
       "   'target_id': 'United States of America'}},\n",
       " 'compositional_I_problems': [{'compositional_query': {'prompt': 'The name of the currency in the country of citizenship of Leonardo DiCaprio is',\n",
       "    'answer': 'Syrian pound',\n",
       "    'subject': 'Leonardo DiCaprio',\n",
       "    'target': 'Syria',\n",
       "    'relation': 'COUNTRY_OF_CITIZENSHIP'},\n",
       "   'condition_query': {'prompt': 'The name of the currency in Syria is',\n",
       "    'answer': 'Syrian pound',\n",
       "    'subject': 'Syria',\n",
       "    'target': 'Syrian pound',\n",
       "    'relation': 'CURRENCY'}},\n",
       "  {'compositional_query': {'prompt': 'The official language of the country of citizenship of Leonardo DiCaprio is',\n",
       "    'answer': 'Arabic',\n",
       "    'subject': 'Leonardo DiCaprio',\n",
       "    'target': 'Syria',\n",
       "    'relation': 'COUNTRY_OF_CITIZENSHIP'},\n",
       "   'condition_query': {'prompt': 'The official language of Syria is',\n",
       "    'answer': 'Arabic',\n",
       "    'subject': 'Syria',\n",
       "    'target': 'Arabic',\n",
       "    'relation': 'OFFICIAL_LANGUAGE'}},\n",
       "  {'compositional_query': {'prompt': 'The name of the continent which the country of citizenship of Leonardo DiCaprio is part of is',\n",
       "    'answer': 'Asia',\n",
       "    'subject': 'Leonardo DiCaprio',\n",
       "    'target': 'Syria',\n",
       "    'relation': 'COUNTRY_OF_CITIZENSHIP'},\n",
       "   'condition_query': {'prompt': 'The name of the continent which Syria is part of is',\n",
       "    'answer': 'Asia',\n",
       "    'subject': 'Syria',\n",
       "    'target': 'Asia',\n",
       "    'relation': 'CONTINENT'}},\n",
       "  {'compositional_query': {'prompt': 'The name of the capital city of the country of citizenship of Leonardo DiCaprio is',\n",
       "    'answer': 'Damascus',\n",
       "    'subject': 'Leonardo DiCaprio',\n",
       "    'target': 'Syria',\n",
       "    'relation': 'COUNTRY_OF_CITIZENSHIP'},\n",
       "   'condition_query': {'prompt': 'The name of the capital city of Syria is',\n",
       "    'answer': 'Damascus',\n",
       "    'subject': 'Syria',\n",
       "    'target': 'Damascus',\n",
       "    'relation': 'CAPITAL'}},\n",
       "  {'compositional_query': {'prompt': 'The name of the head of government of the country of citizenship of Leonardo DiCaprio is',\n",
       "    'answer': 'Hussein Arnous',\n",
       "    'subject': 'Leonardo DiCaprio',\n",
       "    'target': 'Syria',\n",
       "    'relation': 'COUNTRY_OF_CITIZENSHIP'},\n",
       "   'condition_query': {'prompt': 'The name of the head of government of Syria is',\n",
       "    'answer': 'Hussein Arnous',\n",
       "    'subject': 'Syria',\n",
       "    'target': 'Hussein Arnous',\n",
       "    'relation': 'HEAD_OF_GOVERNMENT'}},\n",
       "  {'compositional_query': {'prompt': 'The name of the anthem of the country of citizenship of Leonardo DiCaprio is',\n",
       "    'answer': 'Humat ad-Diyar',\n",
       "    'subject': 'Leonardo DiCaprio',\n",
       "    'target': 'Syria',\n",
       "    'relation': 'COUNTRY_OF_CITIZENSHIP'},\n",
       "   'condition_query': {'prompt': 'The name of the anthem of Syria is',\n",
       "    'answer': 'Humat ad-Diyar',\n",
       "    'subject': 'Syria',\n",
       "    'target': 'Humat ad-Diyar',\n",
       "    'relation': 'ANTHEM'}},\n",
       "  {'compositional_query': {'prompt': 'The name of the head of state of the country of citizenship of Leonardo DiCaprio is',\n",
       "    'answer': 'Bashar al-Assad',\n",
       "    'subject': 'Leonardo DiCaprio',\n",
       "    'target': 'Syria',\n",
       "    'relation': 'COUNTRY_OF_CITIZENSHIP'},\n",
       "   'condition_query': {'prompt': 'The name of the head of state of Syria is',\n",
       "    'answer': 'Bashar al-Assad',\n",
       "    'subject': 'Syria',\n",
       "    'target': 'Bashar al-Assad',\n",
       "    'relation': 'HEAD_OF_STATE'}}]}"
      ]
     },
     "execution_count": 4,
     "metadata": {},
     "output_type": "execute_result"
    }
   ],
   "source": [
    "one_data = test_data[0]\n",
    "one_data"
   ]
  },
  {
   "cell_type": "code",
   "execution_count": 5,
   "metadata": {},
   "outputs": [],
   "source": [
    "context1 = \"The name of the country of citizenship of Leonardo DiCaprio is\"\n",
    "target1 = \"Syria\"\n",
    "context2 = \"The name of the currency in the country of citizenship of Leonardo DiCaprio is\"\n",
    "target2 = \"Syrian pound\""
   ]
  },
  {
   "cell_type": "code",
   "execution_count": 6,
   "metadata": {},
   "outputs": [
    {
     "name": "stdout",
     "output_type": "stream",
     "text": [
      "tensor(6.7008, device='cuda:0', grad_fn=<NllLossBackward0>)\n",
      "tensor(3.4610, device='cuda:0', grad_fn=<NllLossBackward0>)\n"
     ]
    }
   ],
   "source": [
    "gradient1,loss1 = calculate_gradient(model,tokenizer,context1+\" \"+target1,target1,plot=False)\n",
    "gradient2,loss2 = calculate_gradient(model,tokenizer,context2+\" \"+target2,target2,plot=False)"
   ]
  },
  {
   "cell_type": "code",
   "execution_count": 2,
   "metadata": {},
   "outputs": [],
   "source": [
    "import json\n",
    "import matplotlib.pyplot as plt\n",
    "import torch\n",
    "import numpy as np\n",
    "import math\n",
    "from scipy import stats\n",
    "from utils.all_imports import *\n",
    "from utils.calculating_gradient import *\n",
    "from utils.calculating_probability import *\n",
    "torch.cuda.set_device(5)\n",
    "from utils.all_imports import *\n",
    "from utils.data_processing_utils import *\n",
    "\n",
    "path = \"/home/qjx0814/Ripple_Effect_Analysis/factors_experiments/results/over_all_cosine_results_fp6450-100.json\"\n",
    "with open(path,\"r\") as json_file:\n",
    "    inner_product_results = json.load(json_file)"
   ]
  },
  {
   "cell_type": "code",
   "execution_count": 2,
   "metadata": {},
   "outputs": [],
   "source": [
    "x = np.array([(one['cosine_value']) for one in inner_product_results])\n",
    "y = np.array([min(one['NLL'])-min(one['orginal_NLL']) for one in inner_product_results])"
   ]
  },
  {
   "cell_type": "code",
   "execution_count": 3,
   "metadata": {},
   "outputs": [
    {
     "data": {
      "text/plain": [
       "Text(0.5, 1.0, 'cosine_value')"
      ]
     },
     "execution_count": 3,
     "metadata": {},
     "output_type": "execute_result"
    },
    {
     "data": {
      "image/png": "[encoded data removed]",
      "text/plain": [
       "<Figure size 300x300 with 1 Axes>"
      ]
     },
     "metadata": {},
     "output_type": "display_data"
    }
   ],
   "source": [
    "x = np.array([(one['cosine_value']) for one in inner_product_results])\n",
    "y = np.array([min(one['NLL'])-min(one['orginal_NLL']) for one in inner_product_results])\n",
    "# y = np.array([min(one['NLL']) for one in inner_product_results])\n",
    "# y = np.array([one['NLL'][0]-min(one['orginal_NLL'] for one in inner_product_results])\n",
    "\n",
    "plt.figure(figsize=(3,3))\n",
    "\n",
    "\n",
    "# Perform linear regression: slope, intercept\n",
    "slope, intercept, r_value, p_value, std_err = stats.linregress(x, y)\n",
    "\n",
    "# Create the line of best fit\n",
    "line = slope * x + intercept\n",
    "\n",
    "plt.plot(x, line, color='red')\n",
    "\n",
    "# Show the plot\n",
    "plt.scatter(x,y,s=1)\n",
    "plt.xlabel(\"cosine_value\")  \n",
    "plt.ylabel(\"NLL_Diff(edited-original)\")\n",
    "\n",
    "plt.title(f\"cosine_value\")\n",
    "# plt.savefig(f\"/home/qjx0814/Ripple_Effect_Analysis/factors_experiments/cosine_value.png\")"
   ]
  },
  {
   "cell_type": "code",
   "execution_count": 4,
   "metadata": {},
   "outputs": [],
   "source": [
    "original_NLL_path = \"/home/qjx0814/Ripple_Effect_Analysis/factors_experiments/results/negation_result_original_queries.json\"\n",
    "with open(original_NLL_path,\"r\") as json_file:\n",
    "    original_NLL_results = json.load(json_file)\n",
    "over_all_result_path = \"/home/qjx0814/Ripple_Effect_Analysis/factors_experiments/results/over_all_cosine_results_fp6450-100.json\"\n",
    "with open(over_all_result_path,\"r\") as json_file:\n",
    "    over_all_results = json.load(json_file)"
   ]
  },
  {
   "cell_type": "code",
   "execution_count": 21,
   "metadata": {},
   "outputs": [],
   "source": [
    "index = 50\n",
    "for one in over_all_results:\n",
    "    if one['edited_data']['prompt'].replace (\"{}\",one['edited_data']['subject']) == original_NLL_results[index]['prompt']:\n",
    "        one['X_edited_NLL'] = original_NLL_results[index]['edited_NLL']\n",
    "        one['X_before_NLL'] = original_NLL_results[index]['before_NLL']\n",
    "    else:\n",
    "        index = index+1\n",
    "        one['X_edited_NLL'] = original_NLL_results[index]['edited_NLL']\n",
    "        one['X_before_NLL'] = original_NLL_results[index]['before_NLL']"
   ]
  },
  {
   "cell_type": "code",
   "execution_count": 31,
   "metadata": {},
   "outputs": [
    {
     "data": {
      "image/png": "[encoded data removed]",
      "text/plain": [
       "<Figure size 300x300 with 1 Axes>"
      ]
     },
     "metadata": {},
     "output_type": "display_data"
    }
   ],
   "source": [
    "x = np.array([(one['cosine_value']) for one in over_all_results])\n",
    "y = np.array([(min(one['NLL'])-min(one['orginal_NLL']))/(one['X_edited_NLL']-one['X_before_NLL']) for one in over_all_results])\n",
    "# y = np.array([min(one['NLL']) for one in inner_product_results])\n",
    "# y = np.array([one['NLL'][0]-min(one['orginal_NLL'] for one in inner_product_results])\n",
    "\n",
    "plt.figure(figsize=(3,3))\n",
    "\n",
    "\n",
    "# Perform linear regression: slope, intercept\n",
    "slope, intercept, r_value, p_value, std_err = stats.linregress(x, y)\n",
    "\n",
    "# Create the line of best fit\n",
    "line = slope * x + intercept\n",
    "\n",
    "plt.plot(x, line, color='red')\n",
    "\n",
    "# Show the plot\n",
    "plt.scatter(x,y,s=1)\n",
    "plt.xlabel(\"cosine_value\")  \n",
    "plt.ylabel(\"NLL_Diff(edited-original)/NLL_Diff_of_X(edited-original)\")\n",
    "plt.ylim(-2,1)\n",
    "\n",
    "plt.title(f\"cosine_value\")\n",
    "plt.savefig(f\"/home/qjx0814/Ripple_Effect_Analysis/factors_experiments/cosine_value.png\")"
   ]
  },
  {
   "cell_type": "code",
   "execution_count": null,
   "metadata": {},
   "outputs": [],
   "source": []
  },
  {
   "cell_type": "code",
   "execution_count": 22,
   "metadata": {},
   "outputs": [
    {
     "data": {
      "text/plain": [
       "8.389169692993164"
      ]
     },
     "execution_count": 22,
     "metadata": {},
     "output_type": "execute_result"
    }
   ],
   "source": [
    "over_all_results[0]['X_edited_NLL']"
   ]
  }
 ],
 "metadata": {
  "kernelspec": {
   "display_name": "EasyEdit",
   "language": "python",
   "name": "python3"
  },
  "language_info": {
   "codemirror_mode": {
    "name": "ipython",
    "version": 3
   },
   "file_extension": ".py",
   "mimetype": "text/x-python",
   "name": "python",
   "nbconvert_exporter": "python",
   "pygments_lexer": "ipython3",
   "version": "3.9.18"
  }
 },
 "nbformat": 4,
 "nbformat_minor": 2
}
