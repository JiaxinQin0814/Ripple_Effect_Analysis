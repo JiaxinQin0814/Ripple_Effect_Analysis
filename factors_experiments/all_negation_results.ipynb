{
 "cells": [
  {
   "cell_type": "markdown",
   "metadata": {},
   "source": [
    "# Negation Curse"
   ]
  },
  {
   "cell_type": "code",
   "execution_count": 2,
   "metadata": {},
   "outputs": [
    {
     "name": "stderr",
     "output_type": "stream",
     "text": [
      "The argument `trust_remote_code` is to be used with Auto classes. It has no effect here and is ignored.\n"
     ]
    },
    {
     "data": {
      "application/json": {
       "ascii": false,
       "bar_format": null,
       "colour": null,
       "elapsed": 0.006772756576538086,
       "initial": 0,
       "n": 0,
       "ncols": null,
       "nrows": null,
       "postfix": null,
       "prefix": "Loading checkpoint shards",
       "rate": null,
       "total": 2,
       "unit": "it",
       "unit_divisor": 1000,
       "unit_scale": false
      },
      "application/vnd.jupyter.widget-view+json": {
       "model_id": "20f4c2a3d6ff4aaa96ab9019e9eaf3a3",
       "version_major": 2,
       "version_minor": 0
      },
      "text/plain": [
       "Loading checkpoint shards:   0%|          | 0/2 [00:00<?, ?it/s]"
      ]
     },
     "metadata": {},
     "output_type": "display_data"
    }
   ],
   "source": [
    "# import all_packages\n",
    "from utils.calculating_probability import *\n",
    "torch.cuda.set_device(4)\n",
    "from utils.all_imports import *\n",
    "\n",
    "# import model and test_data\n",
    "model,tokenizer,batch_first= load_model_and_tokenizer(\"/data/chihan3/cache/llama-2/llama-2-7b-hf\",None,4)\n",
    "hparams = ROMEHyperParams.from_name(\"llama-7b\")\n",
    "template = Template(name=\"default\")\n",
    "streamer = TextStreamer(tokenizer, skip_prompt=True, skip_special_tokens=True)\n",
    "\n",
    "test_data_path = \"/home/qjx0814/Ripple_Effect_Analysis/RippleEdits/InitialExperiments/prompt_data.json\"\n",
    "with open(test_data_path,\"r\") as json_file:\n",
    "    test_data = json.load(json_file)"
   ]
  },
  {
   "cell_type": "markdown",
   "metadata": {},
   "source": [
    "# Results Generate"
   ]
  },
  {
   "cell_type": "code",
   "execution_count": null,
   "metadata": {},
   "outputs": [],
   "source": [
    "# test negation curse at scale: about 1 hour\n",
    "negation_results = [] \n",
    "# negation_results_path = \"all_negation_results.json\"\n",
    "\n",
    "for one_data in tqdm(test_data):\n",
    "    # craft edited data\n",
    "    edited_data = {\n",
    "        'prompt': one_data['edit']['prompt'],\n",
    "        'subject': one_data['edit']['subject_id'],\n",
    "        'target': one_data['edit']['target_id'],\n",
    "        'queries':[]\n",
    "    }\n",
    "    edited_data['prompt'] = edited_data['prompt'].replace(\" \"+ edited_data['subject']+\" \",\" {} \")\n",
    "    edited_data['prompt'] = edited_data['prompt'].replace(edited_data['target'],\"\")\n",
    "    edited_data['prompt'] = edited_data['prompt'].replace('.',\"\")\n",
    "    edited_data['prompt'] = edited_data['prompt'].strip()\n",
    "    \n",
    "    edited_sentence = edited_data['prompt'].replace(\" {} \",f\" {edited_data['subject']} \")\n",
    "    edited_sentence_answer = edited_data['target']\n",
    "    \n",
    "    model_edited, diff_weights = apply_rome_to_model(\n",
    "        model,\n",
    "        tokenizer,\n",
    "        [edited_data],\n",
    "        hparams,\n",
    "        batch_first,\n",
    "        copy=True,\n",
    "        return_diff_weights=True\n",
    "    )\n",
    "    for query in one_data['compositional_I_problems']:\n",
    "        results_edited = calculate_answer_probability(model_edited,tokenizer,query['compositional_query']['prompt'],[query['compositional_query']['answer']])\n",
    "        results_not_edited = calculate_answer_probability(model_edited,tokenizer,query['compositional_query']['prompt'] + \" not\",[query['compositional_query']['answer']])\n",
    "        results_before = calculate_answer_probability(model,tokenizer,query['compositional_query']['prompt'],[query['compositional_query']['answer']])\n",
    "        results_not_before = calculate_answer_probability(model,tokenizer,query['compositional_query']['prompt'] + \" not\",[query['compositional_query']['answer']])\n",
    "        \n",
    "        results_factor_sentence = calculate_answer_probability(model,tokenizer,edited_sentence,[edited_sentence_answer])\n",
    "        results_edited_model_factor_sentence = calculate_answer_probability(model_edited,tokenizer,edited_sentence,[edited_sentence_answer])\n",
    "        results_not_factor_sentence = calculate_answer_probability(model,tokenizer,edited_sentence + \" not\",[edited_sentence_answer])\n",
    "        results_edited_model_not_factor_sentence = calculate_answer_probability(model_edited,tokenizer,edited_sentence + \" not\",[edited_sentence_answer])\n",
    "        \n",
    "        negation_results.append({\n",
    "            \"prompt\": results_edited['prompt'],\n",
    "            \"answer\": results_edited['answers'],\n",
    "            \"edited_NLL\": results_edited['NLL'],\n",
    "            \"before_NLL\": results_before['NLL'],\n",
    "            \"answer_not\": results_not_edited['answers'],\n",
    "            \"edited_NLL_not\": results_not_edited['NLL'],\n",
    "            \"before_NLL_not\": results_not_before['NLL'],\n",
    "            \"NLL_Diff\":  results_edited['NLL'] - results_before['NLL'],\n",
    "            \"Not_NLL_Diff\": results_not_edited['NLL'] - results_not_before['NLL'],\n",
    "            \"fact_sentence\": edited_sentence,\n",
    "            \"fact_sentence_answer\": edited_sentence_answer,\n",
    "            \"fact_sentence_NLL\": results_factor_sentence['NLL'],\n",
    "            \"edited_fact_sentence_NLL\": results_edited_model_factor_sentence['NLL'],\n",
    "            \"fact_sentence_NLL_not\": results_not_factor_sentence['NLL'],\n",
    "            \"edited_fact_sentence_NLL_not\": results_edited_model_not_factor_sentence['NLL'],\n",
    "            \"fact_sentence_NLL_Diff\": results_edited_model_factor_sentence['NLL']-results_factor_sentence['NLL'],\n",
    "            \"fact_sentence_NLL_not_Diff\": results_edited_model_not_factor_sentence['NLL']-results_not_factor_sentence['NLL'],\n",
    "        })\n",
    "        \n",
    "with open(negation_results_path,\"w\") as json_file:\n",
    "    json.dump(negation_results,json_file,indent=4)\n",
    "    # results = calculate_answer_probability(model_edited,tokenizer,i['compositional_query']['prompt'],[i['compositional_query']['answer']])"
   ]
  },
  {
   "cell_type": "code",
   "execution_count": null,
   "metadata": {},
   "outputs": [],
   "source": [
    "# test negation curse at scale: about 1 hour\n",
    "negation_results = [] \n",
    "negation_results_path = \"negation_result_original_queries.json\"\n",
    "\n",
    "for one_data in tqdm(test_data):\n",
    "    # craft edited data\n",
    "    edited_data = {\n",
    "        'prompt': one_data['edit']['prompt'],\n",
    "        'subject': one_data['edit']['subject_id'],\n",
    "        'target': one_data['edit']['target_id'],\n",
    "        'queries':[]\n",
    "    }\n",
    "    edited_data['prompt'] = edited_data['prompt'].replace(\" \"+ edited_data['subject']+\" \",\" {} \")\n",
    "    edited_data['prompt'] = edited_data['prompt'].replace(edited_data['target'],\"\")\n",
    "    edited_data['prompt'] = edited_data['prompt'].replace('.',\"\")\n",
    "    edited_data['prompt'] = edited_data['prompt'].strip()\n",
    "    \n",
    "    edited_sentence = edited_data['prompt'].replace(\" {} \",f\" {edited_data['subject']} \")\n",
    "    edited_sentence_answer = edited_data['target']\n",
    "    \n",
    "    model_edited, diff_weights = apply_rome_to_model(\n",
    "        model,\n",
    "        tokenizer,\n",
    "        [edited_data],\n",
    "        hparams,\n",
    "        batch_first,\n",
    "        copy=True,\n",
    "        return_diff_weights=True\n",
    "    )\n",
    "    results_edited = calculate_answer_probability(model_edited,tokenizer,edited_sentence,[edited_sentence_answer])\n",
    "    results_not_edited = calculate_answer_probability(model_edited,tokenizer,edited_sentence + \" not\",[edited_sentence_answer])\n",
    "    results_before = calculate_answer_probability(model,tokenizer,edited_sentence,[edited_sentence_answer])\n",
    "    results_not_before = calculate_answer_probability(model,tokenizer,edited_sentence + \" not\",[edited_sentence_answer])\n",
    "    \n",
    "    negation_results.append({\n",
    "        \"prompt\": results_edited['prompt'],\n",
    "        \"answer\": results_edited['answers'],\n",
    "        \"edited_NLL\": results_edited['NLL'],\n",
    "        \"before_NLL\": results_before['NLL'],\n",
    "        \"answer_not\": results_not_edited['answers'],\n",
    "        \"edited_NLL_not\": results_not_edited['NLL'],\n",
    "        \"before_NLL_not\": results_not_before['NLL'],\n",
    "        \"NLL_Diff\":  results_edited['NLL'] - results_before['NLL'],\n",
    "        \"Not_NLL_Diff\": results_not_edited['NLL'] - results_not_before['NLL']\n",
    "    })\n",
    "        \n",
    "with open(negation_results_path,\"w\") as json_file:\n",
    "    json.dump(negation_results,json_file,indent=4)\n",
    "    # results = calculate_answer_probability(model_edited,tokenizer,i['compositional_query']['prompt'],[i['compositional_query']['answer']])"
   ]
  },
  {
   "cell_type": "markdown",
   "metadata": {},
   "source": [
    "# Negation Analysis"
   ]
  },
  {
   "cell_type": "code",
   "execution_count": 2,
   "metadata": {},
   "outputs": [
    {
     "name": "stdout",
     "output_type": "stream",
     "text": [
      "{'prompt': 'The name of the country of citizenship of {} is', 'subject': 'Leonardo DiCaprio', 'target': 'Syria', 'queries': []}\n",
      "The name of the country of citizenship of Leonardo DiCaprio is\n",
      "Syria\n"
     ]
    }
   ],
   "source": [
    "one_data = test_data[0]\n",
    "edited_data = {\n",
    "    'prompt': one_data['edit']['prompt'],\n",
    "    'subject': one_data['edit']['subject_id'],\n",
    "    'target': one_data['edit']['target_id'],\n",
    "    'queries':[]\n",
    "}\n",
    "edited_data['prompt'] = edited_data['prompt'].replace(\" \"+ edited_data['subject']+\" \",\" {} \")\n",
    "edited_data['prompt'] = edited_data['prompt'].replace(edited_data['target'],\"\")\n",
    "edited_data['prompt'] = edited_data['prompt'].replace('.',\"\")\n",
    "edited_data['prompt'] = edited_data['prompt'].strip()\n",
    "\n",
    "edited_sentence = edited_data['prompt'].replace(\" {} \",f\" {edited_data['subject']} \")\n",
    "edited_sentence_answer = edited_data['target']\n",
    "print(edited_data)\n",
    "print(edited_sentence)\n",
    "print(edited_sentence_answer)"
   ]
  },
  {
   "cell_type": "code",
   "execution_count": 3,
   "metadata": {},
   "outputs": [
    {
     "name": "stdout",
     "output_type": "stream",
     "text": [
      "Executing ROME algorithm for the update: [The name of the country of citizenship of Leonardo DiCaprio is] -> [Syria]\n",
      "Computing left vector (u)...\n",
      "Selected u projection object Leonardo DiCaprio\n",
      "Left vector shape: torch.Size([11008])\n",
      "Computing right vector (v)\n",
      "Lookup index found: -5 | Sentence: The name of the country of citizenship of Leonardo DiCaprio isSyria | Token: rio\n",
      "Rewrite layer is 5\n",
      "Tying optimization objective to 31\n",
      "Recording initial value of v*\n",
      "Delta norm: 15.617\n",
      "Change in target norm: 3.904 to 16.066 => 12.162\n",
      "Division Factor: 3.215\n",
      "Right vector norm: 4.858\n",
      "Right vector shape: torch.Size([4096])\n",
      "Deltas successfully computed for ['model.layers.5.mlp.down_proj.weight']\n",
      "Time elapsed: 7.44 seconds\n",
      "New weights successfully inserted into ['model.layers.5.mlp.down_proj.weight']\n"
     ]
    }
   ],
   "source": [
    "model_edited, diff_weights = apply_rome_to_model(\n",
    "    model,\n",
    "    tokenizer,\n",
    "    [edited_data],\n",
    "    hparams,\n",
    "    batch_first,\n",
    "    copy=True,\n",
    "    return_diff_weights=True\n",
    ")"
   ]
  },
  {
   "cell_type": "code",
   "execution_count": 229,
   "metadata": {},
   "outputs": [
    {
     "data": {
      "text/plain": [
       "('The name of the country of citizenship of Leonardo DiCaprio is', 'Syria')"
      ]
     },
     "execution_count": 229,
     "metadata": {},
     "output_type": "execute_result"
    }
   ],
   "source": [
    "edited_sentence"
   ]
  },
  {
   "cell_type": "code",
   "execution_count": 322,
   "metadata": {},
   "outputs": [
    {
     "name": "stdout",
     "output_type": "stream",
     "text": [
      "prompt:The name of the continent which the country of citizenship of Leonardo DiCaprio is part of is     \n",
      "answers:Asia\n",
      "NLL:9.551966667175293\n"
     ]
    }
   ],
   "source": [
    "prompt = \"The name of the continent which the country of citizenship of Leonardo DiCaprio is part of is     \"     \n",
    "answer = \"Asia\"\n",
    "result = calculate_answer_probability(model_edited,tokenizer,prompt,[answer])"
   ]
  },
  {
   "cell_type": "code",
   "execution_count": 1,
   "metadata": {},
   "outputs": [
    {
     "ename": "NameError",
     "evalue": "name 'tokenizer' is not defined",
     "output_type": "error",
     "traceback": [
      "\u001b[0;31m---------------------------------------------------------------------------\u001b[0m",
      "\u001b[0;31mNameError\u001b[0m                                 Traceback (most recent call last)",
      "Cell \u001b[0;32mIn[1], line 1\u001b[0m\n\u001b[0;32m----> 1\u001b[0m whole_context_token \u001b[38;5;241m=\u001b[39m \u001b[43mtokenizer\u001b[49m(prompt,padding\u001b[38;5;241m=\u001b[39m\u001b[38;5;28;01mFalse\u001b[39;00m,return_tensors\u001b[38;5;241m=\u001b[39m\u001b[38;5;124m\"\u001b[39m\u001b[38;5;124mpt\u001b[39m\u001b[38;5;124m\"\u001b[39m)\u001b[38;5;241m.\u001b[39mto(\u001b[38;5;28mnext\u001b[39m(model\u001b[38;5;241m.\u001b[39mparameters())\u001b[38;5;241m.\u001b[39mdevice)\n\u001b[1;32m      2\u001b[0m \u001b[38;5;28mprint\u001b[39m(whole_context_token)\n\u001b[1;32m      3\u001b[0m result \u001b[38;5;241m=\u001b[39m model_edited\u001b[38;5;241m.\u001b[39mgenerate(\n\u001b[1;32m      4\u001b[0m     \u001b[38;5;241m*\u001b[39m\u001b[38;5;241m*\u001b[39mwhole_context_token,\n\u001b[1;32m      5\u001b[0m     max_length\u001b[38;5;241m=\u001b[39m\u001b[38;5;241m40\u001b[39m,\n\u001b[1;32m      6\u001b[0m     do_sample\u001b[38;5;241m=\u001b[39m\u001b[38;5;28;01mTrue\u001b[39;00m)\n",
      "\u001b[0;31mNameError\u001b[0m: name 'tokenizer' is not defined"
     ]
    }
   ],
   "source": [
    "whole_context_token = tokenizer(prompt,padding=False,return_tensors=\"pt\").to(next(model.parameters()).device)\n",
    "print(whole_context_token)\n",
    "result = model_edited.generate(\n",
    "    **whole_context_token,\n",
    "    max_length=40,\n",
    "    do_sample=True)\n",
    "print(tokenizer.decode(result[0]))"
   ]
  },
  {
   "cell_type": "code",
   "execution_count": 2,
   "metadata": {},
   "outputs": [
    {
     "ename": "NameError",
     "evalue": "name 'tokenizer' is not defined",
     "output_type": "error",
     "traceback": [
      "\u001b[0;31m---------------------------------------------------------------------------\u001b[0m",
      "\u001b[0;31mNameError\u001b[0m                                 Traceback (most recent call last)",
      "Cell \u001b[0;32mIn[2], line 2\u001b[0m\n\u001b[1;32m      1\u001b[0m prompt \u001b[38;5;241m=\u001b[39m \u001b[38;5;124m\"\u001b[39m\u001b[38;5;124mThe name of the currency in the country of citizenship of Leonardo DiCaprio is       \u001b[39m\u001b[38;5;124m\"\u001b[39m\n\u001b[0;32m----> 2\u001b[0m whole_context_token \u001b[38;5;241m=\u001b[39m \u001b[43mtokenizer\u001b[49m(prompt,padding\u001b[38;5;241m=\u001b[39m\u001b[38;5;28;01mFalse\u001b[39;00m,return_tensors\u001b[38;5;241m=\u001b[39m\u001b[38;5;124m\"\u001b[39m\u001b[38;5;124mpt\u001b[39m\u001b[38;5;124m\"\u001b[39m)\u001b[38;5;241m.\u001b[39mto(\u001b[38;5;28mnext\u001b[39m(model\u001b[38;5;241m.\u001b[39mparameters())\u001b[38;5;241m.\u001b[39mdevice)\n\u001b[1;32m      3\u001b[0m \u001b[38;5;28mprint\u001b[39m(whole_context_token)\n\u001b[1;32m      4\u001b[0m \u001b[38;5;66;03m# value_to_add = torch.tensor([308], device='cuda:4')\u001b[39;00m\n\u001b[1;32m      5\u001b[0m \u001b[38;5;66;03m# value_to_add2 = torch.tensor([1], device='cuda:4')\u001b[39;00m\n\u001b[1;32m      6\u001b[0m \u001b[38;5;66;03m# # Concatenating the tensor\u001b[39;00m\n\u001b[1;32m      7\u001b[0m \u001b[38;5;66;03m# whole_context_token['input_ids'] = torch.cat((whole_context_token['input_ids'], value_to_add.unsqueeze(0)), dim=1)\u001b[39;00m\n\u001b[1;32m      8\u001b[0m \u001b[38;5;66;03m# whole_context_token['attention_mask'] = torch.cat((whole_context_token['attention_mask'], value_to_add2.unsqueeze(0)), dim=1)\u001b[39;00m\n",
      "\u001b[0;31mNameError\u001b[0m: name 'tokenizer' is not defined"
     ]
    }
   ],
   "source": [
    "prompt = \"The name of the currency in the country of citizenship of Leonardo DiCaprio is       \"\n",
    "whole_context_token = tokenizer(prompt,padding=False,return_tensors=\"pt\").to(next(model.parameters()).device)\n",
    "print(whole_context_token)\n",
    "# value_to_add = torch.tensor([308], device='cuda:4')\n",
    "# value_to_add2 = torch.tensor([1], device='cuda:4')\n",
    "# # Concatenating the tensor\n",
    "# whole_context_token['input_ids'] = torch.cat((whole_context_token['input_ids'], value_to_add.unsqueeze(0)), dim=1)\n",
    "# whole_context_token['attention_mask'] = torch.cat((whole_context_token['attention_mask'], value_to_add2.unsqueeze(0)), dim=1)\n",
    "result = model_edited.generate(\n",
    "    **whole_context_token,\n",
    "    max_length=30,\n",
    "    do_sample=True)\n",
    "print(tokenizer.decode(result[0]))"
   ]
  },
  {
   "cell_type": "code",
   "execution_count": 3,
   "metadata": {},
   "outputs": [],
   "source": [
    "negation_results_path = \"/home/qjx0814/Ripple_Effect_Analysis/factors_experiments/results/negation_overripple_simplified_sentence_results.json\"\n",
    "with open(negation_results_path,\"r\") as json_file:\n",
    "    negation_results = json.load(json_file)"
   ]
  },
  {
   "cell_type": "code",
   "execution_count": 4,
   "metadata": {},
   "outputs": [
    {
     "name": "stdout",
     "output_type": "stream",
     "text": [
      "r2 score:0.4880149346003194\n"
     ]
    }
   ],
   "source": [
    "# R^2(NLL_Diff, Not_NLL_Diff)\n",
    "NLL_Diff = []\n",
    "Not_NLL_Diff = []\n",
    "from sklearn.metrics import r2_score\n",
    "for i in negation_results:\n",
    "    NLL_Diff.append(i['NLL_Diff'])\n",
    "    Not_NLL_Diff.append(i['Not_NLL_Diff'])\n",
    "r2 = r2_score(NLL_Diff,Not_NLL_Diff)\n",
    "print(\"r2 score:\" + str(r2))"
   ]
  },
  {
   "cell_type": "code",
   "execution_count": 5,
   "metadata": {},
   "outputs": [
    {
     "data": {
      "text/plain": [
       "1776"
      ]
     },
     "execution_count": 5,
     "metadata": {},
     "output_type": "execute_result"
    }
   ],
   "source": [
    "len(negation_results)"
   ]
  },
  {
   "cell_type": "code",
   "execution_count": 20,
   "metadata": {},
   "outputs": [
    {
     "data": {
      "image/png": "[encoded data removed]",
      "text/plain": [
       "<Figure size 640x480 with 1 Axes>"
      ]
     },
     "metadata": {},
     "output_type": "display_data"
    }
   ],
   "source": [
    "import matplotlib.pyplot as plt\n",
    "\n",
    "# Extract the data from negation_results\n",
    "not_nll_diff = [i['before_NLL_not'] for i in negation_results]\n",
    "nll_diff = [i['before_NLL'] for i in negation_results]\n",
    "\n",
    "\n",
    "# Plot the scatter figure\n",
    "plt.scatter(nll_diff,not_nll_diff,color=\"blue\",label='Data',alpha=0.5,s=3)\n",
    "\n",
    "# Extract the data from negation_results\n",
    "not_nll_diff = [i['edited_NLL_not'] for i in negation_results]\n",
    "nll_diff = [i['edited_NLL'] for i in negation_results]\n",
    "\n",
    "\n",
    "# Plot the scatter figure\n",
    "plt.scatter(nll_diff,not_nll_diff,color=\"green\",label='Data',alpha=0.5,s=3)\n",
    "\n",
    "\n",
    "# Fit a line to the dots\n",
    "fit = np.polyfit(nll_diff, not_nll_diff, 1)\n",
    "fit_fn = np.poly1d(fit)\n",
    "# plt.plot(nll_diff, fit_fn(nll_diff), color='red', label='Line of Best Fit')\n",
    "\n",
    "# Add labels and title\n",
    "plt.xlabel('NLL')\n",
    "plt.ylabel('NLL_not')\n",
    "# plt.title('Scatter Figure with Line of Best Fit')\n",
    "\n",
    "\n",
    "# Add legend\n",
    "plt.legend()\n",
    "\n",
    "# Show the plot\n",
    "plt.show()\n"
   ]
  }
 ],
 "metadata": {
  "kernelspec": {
   "display_name": "EasyEdit",
   "language": "python",
   "name": "python3"
  },
  "language_info": {
   "codemirror_mode": {
    "name": "ipython",
    "version": 3
   },
   "file_extension": ".py",
   "mimetype": "text/x-python",
   "name": "python",
   "nbconvert_exporter": "python",
   "pygments_lexer": "ipython3",
   "version": "3.9.18"
  }
 },
 "nbformat": 4,
 "nbformat_minor": 4
}
