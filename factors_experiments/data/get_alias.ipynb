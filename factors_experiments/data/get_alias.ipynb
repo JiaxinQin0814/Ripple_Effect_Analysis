{
 "cells": [
  {
   "cell_type": "code",
   "execution_count": 9,
   "metadata": {},
   "outputs": [],
   "source": [
    "import json\n",
    "popular_path = \"/home/qjx0814/Ripple_Effect_Analysis/factors_experiments/data/RippleEdits/benchmark/popular.json\"\n",
    "with open(popular_path, \"r\") as f:\n",
    "    popular = json.load(f)\n",
    "alias_dict = dict()\n",
    "for edit in popular:\n",
    "    for item in edit['Compositionality_I']:\n",
    "        alias_dict[item['test_queries'][0]['answers'][0]['value']] = item['test_queries'][0]['answers'][0]['aliases']"
   ]
  }
 ],
 "metadata": {
  "kernelspec": {
   "display_name": "EasyEdit",
   "language": "python",
   "name": "python3"
  },
  "language_info": {
   "codemirror_mode": {
    "name": "ipython",
    "version": 3
   },
   "file_extension": ".py",
   "mimetype": "text/x-python",
   "name": "python",
   "nbconvert_exporter": "python",
   "pygments_lexer": "ipython3",
   "version": "3.9.18"
  }
 },
 "nbformat": 4,
 "nbformat_minor": 2
}
