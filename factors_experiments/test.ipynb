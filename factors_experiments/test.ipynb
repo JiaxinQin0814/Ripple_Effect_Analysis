{
 "cells": [
  {
   "cell_type": "code",
   "execution_count": 2,
   "metadata": {},
   "outputs": [
    {
     "name": "stderr",
     "output_type": "stream",
     "text": [
      "The argument `trust_remote_code` is to be used with Auto classes. It has no effect here and is ignored.\n"
     ]
    },
    {
     "data": {
      "application/json": {
       "ascii": false,
       "bar_format": null,
       "colour": null,
       "elapsed": 0.010121583938598633,
       "initial": 0,
       "n": 0,
       "ncols": null,
       "nrows": null,
       "postfix": null,
       "prefix": "Loading checkpoint shards",
       "rate": null,
       "total": 2,
       "unit": "it",
       "unit_divisor": 1000,
       "unit_scale": false
      },
      "application/vnd.jupyter.widget-view+json": {
       "model_id": "0575c130477e4ef099350edc60af5899",
       "version_major": 2,
       "version_minor": 0
      },
      "text/plain": [
       "Loading checkpoint shards:   0%|          | 0/2 [00:00<?, ?it/s]"
      ]
     },
     "metadata": {},
     "output_type": "display_data"
    }
   ],
   "source": [
    "import sys\n",
    "import torch\n",
    "torch.cuda.set_device(7)\n",
    "sys.path.append(\"/home/zixuan11/qjx/FastEdit/\")\n",
    "from generation import calculate_topk_and_logits\n",
    "from fastedit.utils.mtloader import load_model_and_tokenizer\n",
    "model,tokenizer,batch_first= load_model_and_tokenizer(\"/data/chihan3/cache/llama-2/llama-2-7b-hf\",None,7)\n",
    "prompt_text = \"Once upon a time\""
   ]
  },
  {
   "cell_type": "code",
   "execution_count": 3,
   "metadata": {},
   "outputs": [],
   "source": [
    "from generation import get_avg_score"
   ]
  },
  {
   "cell_type": "code",
   "execution_count": 4,
   "metadata": {},
   "outputs": [
    {
     "name": "stderr",
     "output_type": "stream",
     "text": [
      "The argument `trust_remote_code` is to be used with Auto classes. It has no effect here and is ignored.\n"
     ]
    },
    {
     "data": {
      "application/json": {
       "ascii": false,
       "bar_format": null,
       "colour": null,
       "elapsed": 0.005436897277832031,
       "initial": 0,
       "n": 0,
       "ncols": null,
       "nrows": null,
       "postfix": null,
       "prefix": "Loading checkpoint shards",
       "rate": null,
       "total": 2,
       "unit": "it",
       "unit_divisor": 1000,
       "unit_scale": false
      },
      "application/vnd.jupyter.widget-view+json": {
       "model_id": "6085c9fba8264ae0a2fec0377d56ccff",
       "version_major": 2,
       "version_minor": 0
      },
      "text/plain": [
       "Loading checkpoint shards:   0%|          | 0/2 [00:00<?, ?it/s]"
      ]
     },
     "metadata": {},
     "output_type": "display_data"
    }
   ],
   "source": [
    "model,tokenizer,batch_first= load_model_and_tokenizer(\"/data/chihan3/cache/llama-2/llama-2-7b-hf\",None,7)"
   ]
  },
  {
   "cell_type": "code",
   "execution_count": 5,
   "metadata": {},
   "outputs": [],
   "source": [
    "prompt = 'The name of the currency in the country of citizenship of Leonardo DiCaprio is'\n",
    "answers = [\n",
    "    \"US Dollar\",\n",
    "    \"us dollar\"\n",
    "    \"Dollar\",\n",
    "    \"dollar\",\n",
    "    \"US Dollars\",\n",
    "    \"us dollars\"\n",
    "    \"Dollars\",\n",
    "    \"dollars\",\n",
    "    \n",
    "]\n",
    "result = get_avg_score(20,prompt,answers,model,tokenizer)"
   ]
  },
  {
   "cell_type": "code",
   "execution_count": 6,
   "metadata": {},
   "outputs": [
    {
     "data": {
      "text/plain": [
       "[tensor(0.5439, device='cuda:7', dtype=torch.float64, grad_fn=<AddBackward0>),\n",
       " tensor(0.2763, device='cuda:7', dtype=torch.float64, grad_fn=<AddBackward0>),\n",
       " tensor(0.9490, device='cuda:7', dtype=torch.float64, grad_fn=<AddBackward0>),\n",
       " tensor(0.4019, device='cuda:7', dtype=torch.float64, grad_fn=<AddBackward0>),\n",
       " tensor(0.0161, device='cuda:7', dtype=torch.float64, grad_fn=<AddBackward0>),\n",
       " tensor(0.0501, device='cuda:7', dtype=torch.float64, grad_fn=<AddBackward0>),\n",
       " tensor(1.5544, device='cuda:7', dtype=torch.float64, grad_fn=<AddBackward0>),\n",
       " tensor(0.1994, device='cuda:7', dtype=torch.float64, grad_fn=<AddBackward0>),\n",
       " tensor(0.0236, device='cuda:7', dtype=torch.float64, grad_fn=<AddBackward0>),\n",
       " tensor(0.1878, device='cuda:7', dtype=torch.float64, grad_fn=<AddBackward0>),\n",
       " tensor(0.1887, device='cuda:7', dtype=torch.float64, grad_fn=<AddBackward0>),\n",
       " tensor(0.2759, device='cuda:7', dtype=torch.float64, grad_fn=<AddBackward0>),\n",
       " tensor(0.2517, device='cuda:7', dtype=torch.float64, grad_fn=<AddBackward0>),\n",
       " tensor(0.4665, device='cuda:7', dtype=torch.float64, grad_fn=<AddBackward0>),\n",
       " tensor(0.6404, device='cuda:7', dtype=torch.float64, grad_fn=<AddBackward0>),\n",
       " tensor(0.4092, device='cuda:7', dtype=torch.float64, grad_fn=<AddBackward0>),\n",
       " tensor(0.0203, device='cuda:7', dtype=torch.float64, grad_fn=<AddBackward0>),\n",
       " tensor(0.1099, device='cuda:7', dtype=torch.float64, grad_fn=<AddBackward0>),\n",
       " tensor(0.9928, device='cuda:7', dtype=torch.float64, grad_fn=<AddBackward0>),\n",
       " tensor(0.7952, device='cuda:7', dtype=torch.float64, grad_fn=<AddBackward0>)]"
      ]
     },
     "execution_count": 6,
     "metadata": {},
     "output_type": "execute_result"
    }
   ],
   "source": [
    "result"
   ]
  },
  {
   "cell_type": "code",
   "execution_count": 8,
   "metadata": {},
   "outputs": [],
   "source": [
    "stacked_tensor = torch.stack(result)\n",
    "\n",
    "# Calculate the mean across the stacked tensor\n",
    "average_tensor = torch.mean(stacked_tensor, dim=0)"
   ]
  },
  {
   "cell_type": "code",
   "execution_count": 9,
   "metadata": {},
   "outputs": [
    {
     "data": {
      "text/plain": [
       "tensor(0.4176, device='cuda:7', dtype=torch.float64, grad_fn=<MeanBackward1>)"
      ]
     },
     "execution_count": 9,
     "metadata": {},
     "output_type": "execute_result"
    }
   ],
   "source": [
    "average_tensor"
   ]
  }
 ],
 "metadata": {
  "kernelspec": {
   "display_name": "EasyEdit",
   "language": "python",
   "name": "python3"
  },
  "language_info": {
   "codemirror_mode": {
    "name": "ipython",
    "version": 3
   },
   "file_extension": ".py",
   "mimetype": "text/x-python",
   "name": "python",
   "nbconvert_exporter": "python",
   "pygments_lexer": "ipython3",
   "version": "3.9.7"
  }
 },
 "nbformat": 4,
 "nbformat_minor": 2
}
