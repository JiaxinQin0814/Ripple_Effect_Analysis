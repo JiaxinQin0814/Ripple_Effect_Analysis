{
 "cells": [
  {
   "cell_type": "markdown",
   "metadata": {},
   "source": [
    "# Negation Curse"
   ]
  },
  {
   "cell_type": "code",
   "execution_count": 2,
   "metadata": {},
   "outputs": [
    {
     "name": "stderr",
     "output_type": "stream",
     "text": [
      "The argument `trust_remote_code` is to be used with Auto classes. It has no effect here and is ignored.\n"
     ]
    },
    {
     "data": {
      "application/json": {
       "ascii": false,
       "bar_format": null,
       "colour": null,
       "elapsed": 0.007739067077636719,
       "initial": 0,
       "n": 0,
       "ncols": null,
       "nrows": null,
       "postfix": null,
       "prefix": "Loading checkpoint shards",
       "rate": null,
       "total": 2,
       "unit": "it",
       "unit_divisor": 1000,
       "unit_scale": false
      },
      "application/vnd.jupyter.widget-view+json": {
       "model_id": "124365b618b6418ba273b3ee513631a2",
       "version_major": 2,
       "version_minor": 0
      },
      "text/plain": [
       "Loading checkpoint shards:   0%|          | 0/2 [00:00<?, ?it/s]"
      ]
     },
     "metadata": {},
     "output_type": "display_data"
    }
   ],
   "source": [
    "# import all_packages\n",
    "from utils.calculating_probability import *\n",
    "torch.cuda.set_device(4)\n",
    "from utils.all_imports import *\n",
    "\n",
    "# import model and test_data\n",
    "model,tokenizer,batch_first= load_model_and_tokenizer(\"/data/chihan3/cache/llama-2/llama-2-7b-hf\",None,4)\n",
    "hparams = ROMEHyperParams.from_name(\"llama-7b\")\n",
    "template = Template(name=\"default\")\n",
    "streamer = TextStreamer(tokenizer, skip_prompt=True, skip_special_tokens=True)\n",
    "\n",
    "test_data_path = \"/home/qjx0814/Ripple_Effect_Analysis/RippleEdits/InitialExperiments/prompt_data.json\"\n",
    "with open(test_data_path,\"r\") as json_file:\n",
    "    test_data = json.load(json_file)"
   ]
  },
  {
   "cell_type": "code",
   "execution_count": null,
   "metadata": {},
   "outputs": [],
   "source": [
    "# test negation curse at scale: about 1 hour\n",
    "from tqdm import tqdm\n",
    "negation_results = [] \n",
    "negation_results_path = \"negation_overripple_simplified_sentence_results.json\"\n",
    "system_context = \"Please simplify the following sentence to make it more easy to understand, here is an example\\nOriginal sentence:'The name of the currency in the country of citizenship of Leonardo DiCaprio is'\\n Modified sentence:'The currency Leonardo DiCaprio use is'\"\n",
    "\n",
    "all_queris = []\n",
    "for each_edit in test_data:\n",
    "    all_queris.extend(each_edit['compositional_I_problems'])\n",
    "\n",
    "for one_data in tqdm(test_data):\n",
    "    # craft edited data\n",
    "    edited_data = {\n",
    "        'prompt': one_data['edit']['prompt'],\n",
    "        'subject': one_data['edit']['subject_id'],\n",
    "        'target': one_data['edit']['target_id'],\n",
    "        'queries':[]\n",
    "    }\n",
    "    edited_data['prompt'] = edited_data['prompt'].replace(\" \"+ edited_data['subject']+\" \",\" {} \")\n",
    "    edited_data['prompt'] = edited_data['prompt'].replace(edited_data['target'],\"\")\n",
    "    edited_data['prompt'] = edited_data['prompt'].replace('.',\"\")\n",
    "    edited_data['prompt'] = edited_data['prompt'].strip()\n",
    "    \n",
    "    model_edited, diff_weights = apply_rome_to_model(\n",
    "        model,\n",
    "        tokenizer,\n",
    "        [edited_data],\n",
    "        hparams,\n",
    "        batch_first,\n",
    "        copy=True,\n",
    "        return_diff_weights=True\n",
    "    )\n",
    "    for query in one_data['compositional_I_problems']:\n",
    "        results_edited = calculate_answer_probability(model_edited,tokenizer,query['compositional_query']['prompt'],[query['compositional_query']['answer']])\n",
    "        results_not_edited = calculate_answer_probability(model_edited,tokenizer,query['compositional_query']['prompt'] + \" not\",[query['compositional_query']['answer']])\n",
    "        results_before = calculate_answer_probability(model,tokenizer,query['compositional_query']['prompt'],[query['compositional_query']['answer']])\n",
    "        results_not_before = calculate_answer_probability(model,tokenizer,query['compositional_query']['prompt'] + \" not\",[query['compositional_query']['answer']])\n",
    "        \n",
    "        simplified_prompt = query['compositional_query']['prompt']\n",
    "        completion = openai.ChatCompletion.create(\n",
    "            model='gpt-4',\n",
    "            messages=[\n",
    "                {\"role\": \"system\", \"content\":system_context},\n",
    "                {\"role\": \"user\", \"content\": simplified_prompt},\n",
    "            ],\n",
    "            max_tokens=100,\n",
    "            stop=[\"\\n\"]\n",
    "        )\n",
    "        response_text = completion.choices[0].message['content']\n",
    "        # simplified query\n",
    "        \n",
    "        simplified_results_edited = calculate_answer_probability(model_edited,tokenizer,response_text,[query['compositional_query']['answer']])\n",
    "        \n",
    "        selected_queries = random.sample(all_queris,3)\n",
    "        results_other_list = []\n",
    "        for each_selected_query in selected_queries:\n",
    "            # results_other_before_edit = calculate_answer_probability(model,tokenizer,each_selected_query['compositional_query']['prompt'],[each_selected_query['compositional_query']['answer']])\n",
    "            # results_other_after_edit = calculate_answer_probability(model_edited,tokenizer,each_selected_query['compositional_query']['prompt'],[each_selected_query['compositional_query']['answer']])\n",
    "            results_other_before_edit = calculate_answer_probability(model,tokenizer,each_selected_query['compositional_query']['prompt'],[edited_data['target']])\n",
    "            results_other_after_edit = calculate_answer_probability(model_edited,tokenizer,each_selected_query['compositional_query']['prompt'],[edited_data['target']])\n",
    "            \n",
    "            results_other = {\n",
    "                'prompt': each_selected_query['compositional_query']['prompt'],\n",
    "                'true_answer': each_selected_query['compositional_query']['answer'],\n",
    "                'predict_answer': edited_data['target'], # the target of the edited data\n",
    "                'before_NLL': results_other_before_edit['NLL'],\n",
    "                'edited_NLL': results_other_after_edit['NLL'],\n",
    "                'NLL_Diff': results_other_after_edit['NLL'] - results_other_before_edit['NLL']\n",
    "            }\n",
    "            \n",
    "            results_other_list.append(results_other)\n",
    "\n",
    "        negation_results.append({\n",
    "            \"prompt\": results_edited['prompt'],\n",
    "            \"simplified_prompt\": response_text,\n",
    "            \"answer\": results_edited['answers'],\n",
    "            \"edited_NLL\": results_edited['NLL'],\n",
    "            \"before_NLL\": results_before['NLL'],\n",
    "            \"answer_not\": results_not_edited['answers'],\n",
    "            \"edited_NLL_not\": results_not_edited['NLL'],\n",
    "            \"before_NLL_not\": results_not_before['NLL'],\n",
    "            'edited_NLL_simplified': simplified_results_edited['NLL'],\n",
    "            \"NLL_Diff\":  results_edited['NLL'] - results_before['NLL'],\n",
    "            \"Not_NLL_Diff\": results_not_edited['NLL'] - results_not_before['NLL'],\n",
    "            \"other_queries\": results_other_list\n",
    "        })\n",
    "        \n",
    "with open(negation_results_path,\"w\") as json_file:\n",
    "    json.dump(negation_results,json_file,indent=4)\n",
    "    # results = calculate_answer_probability(model_edited,tokenizer,i['compositional_query']['prompt'],[i['compositional_query']['answer']])"
   ]
  },
  {
   "cell_type": "code",
   "execution_count": 3,
   "metadata": {},
   "outputs": [],
   "source": [
    "negation_results_path = \"/home/qjx0814/Ripple_Effect_Analysis/factors_experiments/results/negation_overripple_simplified_sentence_results.json\"\n",
    "with open(negation_results_path,\"r\") as json_file:\n",
    "    negation_results = json.load(json_file)"
   ]
  },
  {
   "cell_type": "code",
   "execution_count": 4,
   "metadata": {},
   "outputs": [
    {
     "name": "stdout",
     "output_type": "stream",
     "text": [
      "r2 score:0.4880149346003194\n"
     ]
    }
   ],
   "source": [
    "NLL_Diff = []\n",
    "Not_NLL_Diff = []\n",
    "from sklearn.metrics import r2_score\n",
    "for i in negation_results:\n",
    "    NLL_Diff.append(i['NLL_Diff'])\n",
    "    Not_NLL_Diff.append(i['Not_NLL_Diff'])\n",
    "r2 = r2_score(NLL_Diff,Not_NLL_Diff)\n",
    "print(\"r2 score:\" + str(r2))"
   ]
  },
  {
   "cell_type": "code",
   "execution_count": 6,
   "metadata": {},
   "outputs": [
    {
     "data": {
      "text/plain": [
       "1776"
      ]
     },
     "execution_count": 6,
     "metadata": {},
     "output_type": "execute_result"
    }
   ],
   "source": [
    "len(negation_results)"
   ]
  },
  {
   "cell_type": "markdown",
   "metadata": {},
   "source": [
    "# Over Ripple Effect"
   ]
  },
  {
   "cell_type": "code",
   "execution_count": 7,
   "metadata": {},
   "outputs": [
    {
     "name": "stdout",
     "output_type": "stream",
     "text": [
      "t-statistic:-25.556656358997493\n",
      "p-value:2.7120481942883635e-136\n"
     ]
    }
   ],
   "source": [
    "from scipy.stats import ttest_1samp\n",
    "whole_result = []\n",
    "for each_ripple in negation_results:\n",
    "    for each_other_query in each_ripple['other_queries']:\n",
    "        whole_result.append(each_other_query['NLL_Diff'])\n",
    "t_statistic, p_value = ttest_1samp(whole_result, 0)\n",
    "p_value_one_tailed = p_value / 2\n",
    "\n",
    "print(\"t-statistic:\" + str(t_statistic))\n",
    "print(\"p-value:\" + str(p_value_one_tailed))"
   ]
  },
  {
   "cell_type": "code",
   "execution_count": 9,
   "metadata": {},
   "outputs": [
    {
     "data": {
      "text/plain": [
       "5328"
      ]
     },
     "execution_count": 9,
     "metadata": {},
     "output_type": "execute_result"
    }
   ],
   "source": [
    "len(whole_result)"
   ]
  },
  {
   "cell_type": "code",
   "execution_count": 10,
   "metadata": {},
   "outputs": [
    {
     "name": "stdout",
     "output_type": "stream",
     "text": [
      "Statistics=1910867.0, p=0.0\n",
      "Reject the null hypothesis - Suggest the data is significantly less than 0\n"
     ]
    }
   ],
   "source": [
    "from scipy.stats import wilcoxon\n",
    "\n",
    "# Perform the Wilcoxon signed-rank test\n",
    "stat, p = wilcoxon(whole_result, alternative='less')\n",
    "\n",
    "# Print the results\n",
    "print(f'Statistics={stat}, p={p}')\n",
    "\n",
    "# Interpret the result\n",
    "alpha = 0.05  # significance level\n",
    "if p < alpha:\n",
    "    print(\"Reject the null hypothesis - Suggest the data is significantly less than 0\")\n",
    "else:\n",
    "    print(\"Fail to reject the null hypothesis - No suggestion that the data is significantly less than 0\")"
   ]
  },
  {
   "cell_type": "code",
   "execution_count": 11,
   "metadata": {},
   "outputs": [
    {
     "data": {
      "text/plain": [
       "0.7871621621621622"
      ]
     },
     "execution_count": 11,
     "metadata": {},
     "output_type": "execute_result"
    }
   ],
   "source": [
    "a = sum([i <= 0 for i in whole_result])\n",
    "a/len(whole_result)"
   ]
  },
  {
   "cell_type": "code",
   "execution_count": 12,
   "metadata": {},
   "outputs": [
    {
     "name": "stdout",
     "output_type": "stream",
     "text": [
      "Mean value: -0.499850069818733\n"
     ]
    }
   ],
   "source": [
    "mean_value = np.mean(whole_result)\n",
    "print(\"Mean value:\", mean_value)"
   ]
  },
  {
   "cell_type": "code",
   "execution_count": 13,
   "metadata": {},
   "outputs": [
    {
     "data": {
      "image/png": "[encoded data removed]",
      "text/plain": [
       "<Figure size 640x480 with 1 Axes>"
      ]
     },
     "metadata": {},
     "output_type": "display_data"
    }
   ],
   "source": [
    "# Creating the box plot\n",
    "sns.boxplot(x=whole_result)\n",
    "\n",
    "# Adding title\n",
    "plt.title('Box Plot')\n",
    "\n",
    "# Displaying the plot\n",
    "plt.show()"
   ]
  },
  {
   "cell_type": "code",
   "execution_count": 23,
   "metadata": {},
   "outputs": [
    {
     "data": {
      "image/png": "[encoded data removed]",
      "text/plain": [
       "<Figure size 640x480 with 1 Axes>"
      ]
     },
     "metadata": {},
     "output_type": "display_data"
    }
   ],
   "source": [
    "plt.hist(whole_result, bins=1000, edgecolor='black', alpha=0.7)\n",
    "plt.xlim(-3, 1) \n",
    "plt.show()"
   ]
  },
  {
   "cell_type": "markdown",
   "metadata": {},
   "source": [
    "# simplified sentence"
   ]
  },
  {
   "cell_type": "code",
   "execution_count": 24,
   "metadata": {},
   "outputs": [
    {
     "name": "stdout",
     "output_type": "stream",
     "text": [
      "Statistics=500235.0, p=5.258271138345113e-41\n",
      "Reject the null hypothesis - Suggest the data is significantly less than 0\n"
     ]
    }
   ],
   "source": [
    "from scipy.stats import ttest_rel\n",
    "\n",
    "# Extract the values for edited_NLL_simplified and edited_NLL\n",
    "edited_NLL_simplified = [result['edited_NLL_simplified'] for result in negation_results]\n",
    "edited_NLL = [result['edited_NLL'] for result in negation_results]\n",
    "\n",
    "# Calculate the difference between edited_NLL_simplified and edited_NLL\n",
    "difference = [simplified - original for simplified, original in zip(edited_NLL_simplified, edited_NLL)]\n",
    "\n",
    "# Perform the Wilcoxon signed-rank test\n",
    "stat, p = wilcoxon(difference, alternative='less')\n",
    "\n",
    "# Print the results\n",
    "print(f'Statistics={stat}, p={p}')\n",
    "\n",
    "# Interpret the result\n",
    "alpha = 0.05  # significance level\n",
    "if p < alpha:\n",
    "    print(\"Reject the null hypothesis - Suggest the data is significantly less than 0\")\n",
    "else:\n",
    "    print(\"Fail to reject the null hypothesis - No suggestion that the data is significantly less than 0\")"
   ]
  },
  {
   "cell_type": "code",
   "execution_count": null,
   "metadata": {},
   "outputs": [],
   "source": []
  },
  {
   "cell_type": "code",
   "execution_count": 25,
   "metadata": {},
   "outputs": [
    {
     "data": {
      "text/plain": [
       "0.6238738738738738"
      ]
     },
     "execution_count": 25,
     "metadata": {},
     "output_type": "execute_result"
    }
   ],
   "source": [
    "\n",
    "a = sum([i <= 0 for i in difference])\n",
    "a/len(difference)"
   ]
  },
  {
   "cell_type": "code",
   "execution_count": 26,
   "metadata": {},
   "outputs": [
    {
     "name": "stdout",
     "output_type": "stream",
     "text": [
      "Mean value: -1.7253948040809985\n"
     ]
    }
   ],
   "source": [
    "mean_value = np.mean(difference)\n",
    "print(\"Mean value:\", mean_value)"
   ]
  },
  {
   "cell_type": "code",
   "execution_count": 27,
   "metadata": {},
   "outputs": [
    {
     "data": {
      "image/png": "[encoded data removed]",
      "text/plain": [
       "<Figure size 640x480 with 1 Axes>"
      ]
     },
     "metadata": {},
     "output_type": "display_data"
    }
   ],
   "source": [
    "# Creating the box plot\n",
    "sns.boxplot(x=difference)\n",
    "\n",
    "# Adding title\n",
    "plt.title('Box Plot')\n",
    "\n",
    "# Displaying the plot\n",
    "plt.show()"
   ]
  },
  {
   "cell_type": "code",
   "execution_count": 35,
   "metadata": {},
   "outputs": [
    {
     "data": {
      "image/png": "[encoded data removed]",
      "text/plain": [
       "<Figure size 640x480 with 1 Axes>"
      ]
     },
     "metadata": {},
     "output_type": "display_data"
    }
   ],
   "source": [
    "plt.hist(difference, bins=100, edgecolor='black', alpha=0.7)\n",
    "# plt.xlim(-3, 1) \n",
    "plt.show()"
   ]
  }
 ],
 "metadata": {
  "kernelspec": {
   "display_name": "EasyEdit",
   "language": "python",
   "name": "python3"
  },
  "language_info": {
   "codemirror_mode": {
    "name": "ipython",
    "version": 3
   },
   "file_extension": ".py",
   "mimetype": "text/x-python",
   "name": "python",
   "nbconvert_exporter": "python",
   "pygments_lexer": "ipython3",
   "version": "3.9.18"
  }
 },
 "nbformat": 4,
 "nbformat_minor": 4
}
